{
 "cells": [
  {
   "cell_type": "code",
   "execution_count": 3,
   "id": "bc00f75b",
   "metadata": {},
   "outputs": [
    {
     "name": "stdout",
     "output_type": "stream",
     "text": [
      "Libreria 'nltk' se cargó correctamente\n"
     ]
    }
   ],
   "source": [
    "try:\n",
    "    from nltk import NaiveBayesClassifier as nbc\n",
    "    from nltk.tokenize import word_tokenize\n",
    "    from nltk.classify import MaxentClassifier\n",
    "    from nltk.classify.scikitlearn import SklearnClassifier \n",
    "    print(\"Libreria 'nltk' se cargó correctamente\")\n",
    "except ModuleNotFoundError:\n",
    "    print(\"Libreria 'nltk' no esta instalada\")\n",
    "    get_ipython().system('pip install nltk')\n",
    "    from nltk import NaiveBayesClassifier as nbc\n",
    "    from nltk.tokenize import word_tokenize\n",
    "    from nltk.classify import MaxentClassifier\n",
    "    from nltk.classify.scikitlearn import SklearnClassifier "
   ]
  },
  {
   "cell_type": "code",
   "execution_count": 4,
   "id": "8ec3256a",
   "metadata": {},
   "outputs": [
    {
     "name": "stdout",
     "output_type": "stream",
     "text": [
      "Libreria 'intertools' se cargó correctamente\n"
     ]
    }
   ],
   "source": [
    "try:\n",
    "    from itertools import chain\n",
    "    print(\"Libreria 'intertools' se cargó correctamente\")\n",
    "except ModuleNotFoundError:\n",
    "    print(\"Libreria 'itertools' no esta instalada\")\n",
    "    get_ipython().system('pip install itertools')\n",
    "    from itertools import chain"
   ]
  },
  {
   "cell_type": "code",
   "execution_count": 5,
   "id": "5d0082a3",
   "metadata": {},
   "outputs": [
    {
     "name": "stdout",
     "output_type": "stream",
     "text": [
      "Libreria 'joblib' se cargó correctamente\n"
     ]
    }
   ],
   "source": [
    "try:\n",
    "    import joblib\n",
    "    print(\"Libreria 'joblib' se cargó correctamente\")\n",
    "except ModuleNotFoundError:\n",
    "    print(\"Libreria 'joblib' no esta instalada\")\n",
    "    get_ipython().system('pip install joblib')\n",
    "    import joblib"
   ]
  },
  {
   "cell_type": "code",
   "execution_count": 7,
   "id": "fa07275a",
   "metadata": {},
   "outputs": [
    {
     "name": "stdout",
     "output_type": "stream",
     "text": [
      "Libreria 'sklearn' se cargó correctamente\n"
     ]
    }
   ],
   "source": [
    "try:\n",
    "    from sklearn.naive_bayes import MultinomialNB\n",
    "    print(\"Libreria 'sklearn' se cargó correctamente\")\n",
    "except ModuleNotFoundError:\n",
    "    print(\"Libreria 'sklearn' no esta instalada\")\n",
    "    get_ipython().system('pip install sklearn')\n",
    "    import joblib"
   ]
  },
  {
   "cell_type": "markdown",
   "id": "ff9e7846",
   "metadata": {},
   "source": [
    "#### Lista de oraciones de entramiento "
   ]
  },
  {
   "cell_type": "code",
   "execution_count": 8,
   "id": "2ac92de6",
   "metadata": {},
   "outputs": [],
   "source": [
    "oraciones_entrenamiento = [\n",
    "('La vida será todo lo positiva que tú le permitas ser', 'pos'),\n",
    "('Esperar puede ser muy difícil pero recoger los frutos de lo sembrado será un gozo', 'pos'),\n",
    "('Aprender a aceptarte es el primer paso para alcanzar la paz interior', 'pos'),\n",
    "('Sólo el amor tiene la fuerza de cambiar la vida de otra persona en cosas de minutos', 'pos'),\n",
    "('Nunca pierdas la esperanza porque la alegría podría entrar por la puerta que olvidaste cerrar', 'pos'),\n",
    "('No viniste nunca más por aquí', 'neg'),\n",
    "('No entiendo cómo pueden hacer eso', 'neg'),\n",
    "('Ya no quedan formas de salir de aquí sin arriesgarse demasiado', 'neg'),\n",
    "('Espero no equivocarme con mi pronóstico', 'neg'),\n",
    "('No había manera de fallar no puedo creer lo que sucedió', 'neg')]"
   ]
  },
  {
   "cell_type": "markdown",
   "id": "0a85b603",
   "metadata": {},
   "source": [
    "#### Lista de oraciones para las pruebas"
   ]
  },
  {
   "cell_type": "code",
   "execution_count": 9,
   "id": "0077b371",
   "metadata": {},
   "outputs": [],
   "source": [
    "oracion_prueba_pos = \"La única diferencia entre el éxito y el fracaso es la actitud\"\n",
    "oracion_prueba_neg = \"No entendí nada de lo que enseñaron la semana pasada\""
   ]
  },
  {
   "cell_type": "markdown",
   "id": "695780c5",
   "metadata": {},
   "source": [
    "#### Tokenización de las palabras en una única lista "
   ]
  },
  {
   "cell_type": "code",
   "execution_count": 10,
   "id": "8343dddc",
   "metadata": {},
   "outputs": [],
   "source": [
    "vocabulario = set(chain(*[word_tokenize(i[0].lower()) for i in oraciones_entrenamiento]))"
   ]
  },
  {
   "cell_type": "code",
   "execution_count": 11,
   "id": "358bd33b",
   "metadata": {},
   "outputs": [],
   "source": [
    "array_palabras = [({i:(i in word_tokenize(sentence.lower())) for i in vocabulario},tag) for sentence, tag in oraciones_entrenamiento]"
   ]
  },
  {
   "cell_type": "markdown",
   "id": "4b68edf0",
   "metadata": {},
   "source": [
    "#### Uso de Max Classifier "
   ]
  },
  {
   "cell_type": "code",
   "execution_count": 12,
   "id": "ad78f0ab",
   "metadata": {},
   "outputs": [],
   "source": [
    "Max_classifier = MaxentClassifier.train(array_palabras, trace=0, max_iter=3, min_lldelta=0.5)"
   ]
  },
  {
   "cell_type": "code",
   "execution_count": 13,
   "id": "e79cb181",
   "metadata": {},
   "outputs": [],
   "source": [
    "array_pos = {i:(i in word_tokenize(oracion_prueba_pos.lower())) for i in vocabulario}"
   ]
  },
  {
   "cell_type": "code",
   "execution_count": 14,
   "id": "013352db",
   "metadata": {},
   "outputs": [],
   "source": [
    "array_neg = {i:(i in word_tokenize(oracion_prueba_neg.lower())) for i in vocabulario}"
   ]
  },
  {
   "cell_type": "code",
   "execution_count": 15,
   "id": "5202ad3e",
   "metadata": {},
   "outputs": [
    {
     "data": {
      "text/plain": [
       "'neg'"
      ]
     },
     "execution_count": 15,
     "metadata": {},
     "output_type": "execute_result"
    }
   ],
   "source": [
    "Max_classifier.classify(array_pos)"
   ]
  },
  {
   "cell_type": "code",
   "execution_count": 16,
   "id": "f315c9dd",
   "metadata": {},
   "outputs": [
    {
     "data": {
      "text/plain": [
       "'neg'"
      ]
     },
     "execution_count": 16,
     "metadata": {},
     "output_type": "execute_result"
    }
   ],
   "source": [
    "Max_classifier.classify(array_neg)"
   ]
  },
  {
   "cell_type": "markdown",
   "id": "eadb6ce9",
   "metadata": {},
   "source": [
    "#### Uso de Sklearn "
   ]
  },
  {
   "cell_type": "code",
   "execution_count": 18,
   "id": "bb1cbf6e",
   "metadata": {},
   "outputs": [],
   "source": [
    "SKClassifier = SklearnClassifier(MultinomialNB())"
   ]
  },
  {
   "cell_type": "code",
   "execution_count": 19,
   "id": "a84dd9e5",
   "metadata": {},
   "outputs": [
    {
     "data": {
      "text/plain": [
       "<SklearnClassifier(MultinomialNB())>"
      ]
     },
     "execution_count": 19,
     "metadata": {},
     "output_type": "execute_result"
    }
   ],
   "source": [
    "SKClassifier.train(array_palabras)"
   ]
  },
  {
   "cell_type": "code",
   "execution_count": 20,
   "id": "ecb387f8",
   "metadata": {},
   "outputs": [
    {
     "data": {
      "text/plain": [
       "'pos'"
      ]
     },
     "execution_count": 20,
     "metadata": {},
     "output_type": "execute_result"
    }
   ],
   "source": [
    "SKClassifier.classify(array_pos)"
   ]
  },
  {
   "cell_type": "code",
   "execution_count": 21,
   "id": "aa6446a3",
   "metadata": {},
   "outputs": [
    {
     "data": {
      "text/plain": [
       "'neg'"
      ]
     },
     "execution_count": 21,
     "metadata": {},
     "output_type": "execute_result"
    }
   ],
   "source": [
    "SKClassifier.classify(array_neg)"
   ]
  },
  {
   "cell_type": "code",
   "execution_count": null,
   "id": "b7e88762",
   "metadata": {},
   "outputs": [],
   "source": []
  }
 ],
 "metadata": {
  "kernelspec": {
   "display_name": "Python 3 (ipykernel)",
   "language": "python",
   "name": "python3"
  },
  "language_info": {
   "codemirror_mode": {
    "name": "ipython",
    "version": 3
   },
   "file_extension": ".py",
   "mimetype": "text/x-python",
   "name": "python",
   "nbconvert_exporter": "python",
   "pygments_lexer": "ipython3",
   "version": "3.9.7"
  }
 },
 "nbformat": 4,
 "nbformat_minor": 5
}
