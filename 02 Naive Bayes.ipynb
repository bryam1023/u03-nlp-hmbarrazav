{
 "cells": [
  {
   "cell_type": "code",
   "execution_count": 2,
   "id": "b4b08f28",
   "metadata": {},
   "outputs": [
    {
     "name": "stdout",
     "output_type": "stream",
     "text": [
      "Libreria 'nltk' se cargó correctamente\n"
     ]
    }
   ],
   "source": [
    "try:\n",
    "    from nltk import NaiveBayesClassifier as nbc\n",
    "    from nltk.tokenize import word_tokenize\n",
    "    print(\"Libreria 'nltk' se cargó correctamente\")\n",
    "except ModuleNotFoundError:\n",
    "    print(\"Libreria 'nltk' no esta instalada\")\n",
    "    get_ipython().system('pip install nltk')\n",
    "    from nltk import NaiveBayesClassifier as nbc\n",
    "    from nltk.tokenize import word_tokenize"
   ]
  },
  {
   "cell_type": "code",
   "execution_count": 3,
   "id": "fff07e58",
   "metadata": {},
   "outputs": [
    {
     "name": "stdout",
     "output_type": "stream",
     "text": [
      "Libreria 'intertools' se cargó correctamente\n"
     ]
    }
   ],
   "source": [
    "try:\n",
    "    from itertools import chain\n",
    "    print(\"Libreria 'intertools' se cargó correctamente\")\n",
    "except ModuleNotFoundError:\n",
    "    print(\"Libreria 'itertools' no esta instalada\")\n",
    "    get_ipython().system('pip install itertools')\n",
    "    from itertools import chain"
   ]
  },
  {
   "cell_type": "code",
   "execution_count": 4,
   "id": "63337a28",
   "metadata": {},
   "outputs": [
    {
     "name": "stdout",
     "output_type": "stream",
     "text": [
      "Libreria 'joblib' se cargó correctamente\n"
     ]
    }
   ],
   "source": [
    "try:\n",
    "    import joblib\n",
    "    print(\"Libreria 'joblib' se cargó correctamente\")\n",
    "except ModuleNotFoundError:\n",
    "    print(\"Libreria 'joblib' no esta instalada\")\n",
    "    get_ipython().system('pip install joblib')\n",
    "    import joblib"
   ]
  },
  {
   "cell_type": "markdown",
   "id": "b8648e4e",
   "metadata": {},
   "source": [
    "### Lista de oraciones para entrenamiento"
   ]
  },
  {
   "cell_type": "code",
   "execution_count": 5,
   "id": "ee458de9",
   "metadata": {},
   "outputs": [],
   "source": [
    "oraciones_entrenamiento = [\n",
    "('La vida será todo lo positiva que tú le permitas ser', 'pos'),\n",
    "('Esperar puede ser muy difícil pero recoger los frutos de lo sembrado será un gozo', 'pos'),\n",
    "('Aprender a aceptarte es el primer paso para alcanzar la paz interior', 'pos'),\n",
    "('Sólo el amor tiene la fuerza de cambiar la vida de otra persona en cosas de minutos', 'pos'),\n",
    "('Nunca pierdas la esperanza porque la alegría podría entrar por la puerta que olvidaste cerrar', 'pos'),\n",
    "('No viniste nunca más por aquí', 'neg'),\n",
    "('No entiendo cómo pueden hacer eso', 'neg'),\n",
    "('Ya no quedan formas de salir de aquí sin arriesgarse demasiado', 'neg'),\n",
    "('Espero no equivocarme con mi pronóstico', 'neg'),\n",
    "('No había manera de fallar no puedo creer lo que sucedió', 'neg')]"
   ]
  },
  {
   "cell_type": "markdown",
   "id": "2095dec2",
   "metadata": {},
   "source": [
    "### Lista de oraciones para la prueba "
   ]
  },
  {
   "cell_type": "code",
   "execution_count": 6,
   "id": "c5105c31",
   "metadata": {},
   "outputs": [],
   "source": [
    "oracion_prueba_pos = \"La única diferencia entre el éxito y el fracaso es la actitud\"\n",
    "oracion_prueba_neg = \"No entendí nada de lo que enseñaron la semana pasada\""
   ]
  },
  {
   "cell_type": "code",
   "execution_count": 8,
   "id": "3f2b8ef3",
   "metadata": {},
   "outputs": [],
   "source": [
    "vocabulario = set(chain(*[word_tokenize(i[0].lower()) for i in oraciones_entrenamiento]))"
   ]
  },
  {
   "cell_type": "code",
   "execution_count": 9,
   "id": "2ff2af3e",
   "metadata": {},
   "outputs": [
    {
     "data": {
      "text/plain": [
       "{'a',\n",
       " 'aceptarte',\n",
       " 'alcanzar',\n",
       " 'alegría',\n",
       " 'amor',\n",
       " 'aprender',\n",
       " 'aquí',\n",
       " 'arriesgarse',\n",
       " 'cambiar',\n",
       " 'cerrar',\n",
       " 'con',\n",
       " 'cosas',\n",
       " 'creer',\n",
       " 'cómo',\n",
       " 'de',\n",
       " 'demasiado',\n",
       " 'difícil',\n",
       " 'el',\n",
       " 'en',\n",
       " 'entiendo',\n",
       " 'entrar',\n",
       " 'equivocarme',\n",
       " 'es',\n",
       " 'eso',\n",
       " 'esperanza',\n",
       " 'esperar',\n",
       " 'espero',\n",
       " 'fallar',\n",
       " 'formas',\n",
       " 'frutos',\n",
       " 'fuerza',\n",
       " 'gozo',\n",
       " 'había',\n",
       " 'hacer',\n",
       " 'interior',\n",
       " 'la',\n",
       " 'le',\n",
       " 'lo',\n",
       " 'los',\n",
       " 'manera',\n",
       " 'mi',\n",
       " 'minutos',\n",
       " 'muy',\n",
       " 'más',\n",
       " 'no',\n",
       " 'nunca',\n",
       " 'olvidaste',\n",
       " 'otra',\n",
       " 'para',\n",
       " 'paso',\n",
       " 'paz',\n",
       " 'permitas',\n",
       " 'pero',\n",
       " 'persona',\n",
       " 'pierdas',\n",
       " 'podría',\n",
       " 'por',\n",
       " 'porque',\n",
       " 'positiva',\n",
       " 'primer',\n",
       " 'pronóstico',\n",
       " 'puede',\n",
       " 'pueden',\n",
       " 'puedo',\n",
       " 'puerta',\n",
       " 'que',\n",
       " 'quedan',\n",
       " 'recoger',\n",
       " 'salir',\n",
       " 'sembrado',\n",
       " 'ser',\n",
       " 'será',\n",
       " 'sin',\n",
       " 'sucedió',\n",
       " 'sólo',\n",
       " 'tiene',\n",
       " 'todo',\n",
       " 'tú',\n",
       " 'un',\n",
       " 'vida',\n",
       " 'viniste',\n",
       " 'ya'}"
      ]
     },
     "execution_count": 9,
     "metadata": {},
     "output_type": "execute_result"
    }
   ],
   "source": [
    "vocabulario"
   ]
  },
  {
   "cell_type": "code",
   "execution_count": 10,
   "id": "7c6ff45e",
   "metadata": {},
   "outputs": [],
   "source": [
    "array_palabras = [({i:(i in word_tokenize(sentence.lower())) for i in vocabulario},tag) for sentence, tag in oraciones_entrenamiento]"
   ]
  },
  {
   "cell_type": "code",
   "execution_count": 12,
   "id": "6e079b88",
   "metadata": {},
   "outputs": [
    {
     "name": "stdout",
     "output_type": "stream",
     "text": [
      "Oración: \n",
      "({'permitas': True, 'tiene': False, 'gozo': False, 'nunca': False, 'pueden': False, 'puedo': False, 'amor': False, 'el': False, 'cosas': False, 'formas': False, 'difícil': False, 'cómo': False, 'fuerza': False, 'en': False, 'es': False, 'todo': True, 'mi': False, 'minutos': False, 'pierdas': False, 'creer': False, 'podría': False, 'puerta': False, 'arriesgarse': False, 'primer': False, 'sin': False, 'por': False, 'entiendo': False, 'la': True, 'esperar': False, 'le': True, 'paso': False, 'aquí': False, 'eso': False, 'olvidaste': False, 'demasiado': False, 'sucedió': False, 'equivocarme': False, 'no': False, 'viniste': False, 'pronóstico': False, 'salir': False, 'persona': False, 'aprender': False, 'lo': True, 'manera': False, 'que': True, 'esperanza': False, 'sólo': False, 'interior': False, 'muy': False, 'un': False, 'para': False, 'vida': True, 'con': False, 'puede': False, 'había': False, 'paz': False, 'los': False, 'sembrado': False, 'ya': False, 'entrar': False, 'recoger': False, 'alegría': False, 'alcanzar': False, 'porque': False, 'a': False, 'cambiar': False, 'cerrar': False, 'positiva': True, 'espero': False, 'pero': False, 'fallar': False, 'más': False, 'ser': True, 'quedan': False, 'hacer': False, 'será': True, 'tú': True, 'aceptarte': False, 'otra': False, 'de': False, 'frutos': False}, 'pos')\n",
      "_____________________\n",
      "\n",
      "Oración: \n",
      "({'permitas': False, 'tiene': False, 'gozo': True, 'nunca': False, 'pueden': False, 'puedo': False, 'amor': False, 'el': False, 'cosas': False, 'formas': False, 'difícil': True, 'cómo': False, 'fuerza': False, 'en': False, 'es': False, 'todo': False, 'mi': False, 'minutos': False, 'pierdas': False, 'creer': False, 'podría': False, 'puerta': False, 'arriesgarse': False, 'primer': False, 'sin': False, 'por': False, 'entiendo': False, 'la': False, 'esperar': True, 'le': False, 'paso': False, 'aquí': False, 'eso': False, 'olvidaste': False, 'demasiado': False, 'sucedió': False, 'equivocarme': False, 'no': False, 'viniste': False, 'pronóstico': False, 'salir': False, 'persona': False, 'aprender': False, 'lo': True, 'manera': False, 'que': False, 'esperanza': False, 'sólo': False, 'interior': False, 'muy': True, 'un': True, 'para': False, 'vida': False, 'con': False, 'puede': True, 'había': False, 'paz': False, 'los': True, 'sembrado': True, 'ya': False, 'entrar': False, 'recoger': True, 'alegría': False, 'alcanzar': False, 'porque': False, 'a': False, 'cambiar': False, 'cerrar': False, 'positiva': False, 'espero': False, 'pero': True, 'fallar': False, 'más': False, 'ser': True, 'quedan': False, 'hacer': False, 'será': True, 'tú': False, 'aceptarte': False, 'otra': False, 'de': True, 'frutos': True}, 'pos')\n",
      "_____________________\n",
      "\n",
      "Oración: \n",
      "({'permitas': False, 'tiene': False, 'gozo': False, 'nunca': False, 'pueden': False, 'puedo': False, 'amor': False, 'el': True, 'cosas': False, 'formas': False, 'difícil': False, 'cómo': False, 'fuerza': False, 'en': False, 'es': True, 'todo': False, 'mi': False, 'minutos': False, 'pierdas': False, 'creer': False, 'podría': False, 'puerta': False, 'arriesgarse': False, 'primer': True, 'sin': False, 'por': False, 'entiendo': False, 'la': True, 'esperar': False, 'le': False, 'paso': True, 'aquí': False, 'eso': False, 'olvidaste': False, 'demasiado': False, 'sucedió': False, 'equivocarme': False, 'no': False, 'viniste': False, 'pronóstico': False, 'salir': False, 'persona': False, 'aprender': True, 'lo': False, 'manera': False, 'que': False, 'esperanza': False, 'sólo': False, 'interior': True, 'muy': False, 'un': False, 'para': True, 'vida': False, 'con': False, 'puede': False, 'había': False, 'paz': True, 'los': False, 'sembrado': False, 'ya': False, 'entrar': False, 'recoger': False, 'alegría': False, 'alcanzar': True, 'porque': False, 'a': True, 'cambiar': False, 'cerrar': False, 'positiva': False, 'espero': False, 'pero': False, 'fallar': False, 'más': False, 'ser': False, 'quedan': False, 'hacer': False, 'será': False, 'tú': False, 'aceptarte': True, 'otra': False, 'de': False, 'frutos': False}, 'pos')\n",
      "_____________________\n",
      "\n",
      "Oración: \n",
      "({'permitas': False, 'tiene': True, 'gozo': False, 'nunca': False, 'pueden': False, 'puedo': False, 'amor': True, 'el': True, 'cosas': True, 'formas': False, 'difícil': False, 'cómo': False, 'fuerza': True, 'en': True, 'es': False, 'todo': False, 'mi': False, 'minutos': True, 'pierdas': False, 'creer': False, 'podría': False, 'puerta': False, 'arriesgarse': False, 'primer': False, 'sin': False, 'por': False, 'entiendo': False, 'la': True, 'esperar': False, 'le': False, 'paso': False, 'aquí': False, 'eso': False, 'olvidaste': False, 'demasiado': False, 'sucedió': False, 'equivocarme': False, 'no': False, 'viniste': False, 'pronóstico': False, 'salir': False, 'persona': True, 'aprender': False, 'lo': False, 'manera': False, 'que': False, 'esperanza': False, 'sólo': True, 'interior': False, 'muy': False, 'un': False, 'para': False, 'vida': True, 'con': False, 'puede': False, 'había': False, 'paz': False, 'los': False, 'sembrado': False, 'ya': False, 'entrar': False, 'recoger': False, 'alegría': False, 'alcanzar': False, 'porque': False, 'a': False, 'cambiar': True, 'cerrar': False, 'positiva': False, 'espero': False, 'pero': False, 'fallar': False, 'más': False, 'ser': False, 'quedan': False, 'hacer': False, 'será': False, 'tú': False, 'aceptarte': False, 'otra': True, 'de': True, 'frutos': False}, 'pos')\n",
      "_____________________\n",
      "\n",
      "Oración: \n",
      "({'permitas': False, 'tiene': False, 'gozo': False, 'nunca': True, 'pueden': False, 'puedo': False, 'amor': False, 'el': False, 'cosas': False, 'formas': False, 'difícil': False, 'cómo': False, 'fuerza': False, 'en': False, 'es': False, 'todo': False, 'mi': False, 'minutos': False, 'pierdas': True, 'creer': False, 'podría': True, 'puerta': True, 'arriesgarse': False, 'primer': False, 'sin': False, 'por': True, 'entiendo': False, 'la': True, 'esperar': False, 'le': False, 'paso': False, 'aquí': False, 'eso': False, 'olvidaste': True, 'demasiado': False, 'sucedió': False, 'equivocarme': False, 'no': False, 'viniste': False, 'pronóstico': False, 'salir': False, 'persona': False, 'aprender': False, 'lo': False, 'manera': False, 'que': True, 'esperanza': True, 'sólo': False, 'interior': False, 'muy': False, 'un': False, 'para': False, 'vida': False, 'con': False, 'puede': False, 'había': False, 'paz': False, 'los': False, 'sembrado': False, 'ya': False, 'entrar': True, 'recoger': False, 'alegría': True, 'alcanzar': False, 'porque': True, 'a': False, 'cambiar': False, 'cerrar': True, 'positiva': False, 'espero': False, 'pero': False, 'fallar': False, 'más': False, 'ser': False, 'quedan': False, 'hacer': False, 'será': False, 'tú': False, 'aceptarte': False, 'otra': False, 'de': False, 'frutos': False}, 'pos')\n",
      "_____________________\n",
      "\n",
      "Oración: \n",
      "({'permitas': False, 'tiene': False, 'gozo': False, 'nunca': True, 'pueden': False, 'puedo': False, 'amor': False, 'el': False, 'cosas': False, 'formas': False, 'difícil': False, 'cómo': False, 'fuerza': False, 'en': False, 'es': False, 'todo': False, 'mi': False, 'minutos': False, 'pierdas': False, 'creer': False, 'podría': False, 'puerta': False, 'arriesgarse': False, 'primer': False, 'sin': False, 'por': True, 'entiendo': False, 'la': False, 'esperar': False, 'le': False, 'paso': False, 'aquí': True, 'eso': False, 'olvidaste': False, 'demasiado': False, 'sucedió': False, 'equivocarme': False, 'no': True, 'viniste': True, 'pronóstico': False, 'salir': False, 'persona': False, 'aprender': False, 'lo': False, 'manera': False, 'que': False, 'esperanza': False, 'sólo': False, 'interior': False, 'muy': False, 'un': False, 'para': False, 'vida': False, 'con': False, 'puede': False, 'había': False, 'paz': False, 'los': False, 'sembrado': False, 'ya': False, 'entrar': False, 'recoger': False, 'alegría': False, 'alcanzar': False, 'porque': False, 'a': False, 'cambiar': False, 'cerrar': False, 'positiva': False, 'espero': False, 'pero': False, 'fallar': False, 'más': True, 'ser': False, 'quedan': False, 'hacer': False, 'será': False, 'tú': False, 'aceptarte': False, 'otra': False, 'de': False, 'frutos': False}, 'neg')\n",
      "_____________________\n",
      "\n",
      "Oración: \n",
      "({'permitas': False, 'tiene': False, 'gozo': False, 'nunca': False, 'pueden': True, 'puedo': False, 'amor': False, 'el': False, 'cosas': False, 'formas': False, 'difícil': False, 'cómo': True, 'fuerza': False, 'en': False, 'es': False, 'todo': False, 'mi': False, 'minutos': False, 'pierdas': False, 'creer': False, 'podría': False, 'puerta': False, 'arriesgarse': False, 'primer': False, 'sin': False, 'por': False, 'entiendo': True, 'la': False, 'esperar': False, 'le': False, 'paso': False, 'aquí': False, 'eso': True, 'olvidaste': False, 'demasiado': False, 'sucedió': False, 'equivocarme': False, 'no': True, 'viniste': False, 'pronóstico': False, 'salir': False, 'persona': False, 'aprender': False, 'lo': False, 'manera': False, 'que': False, 'esperanza': False, 'sólo': False, 'interior': False, 'muy': False, 'un': False, 'para': False, 'vida': False, 'con': False, 'puede': False, 'había': False, 'paz': False, 'los': False, 'sembrado': False, 'ya': False, 'entrar': False, 'recoger': False, 'alegría': False, 'alcanzar': False, 'porque': False, 'a': False, 'cambiar': False, 'cerrar': False, 'positiva': False, 'espero': False, 'pero': False, 'fallar': False, 'más': False, 'ser': False, 'quedan': False, 'hacer': True, 'será': False, 'tú': False, 'aceptarte': False, 'otra': False, 'de': False, 'frutos': False}, 'neg')\n",
      "_____________________\n",
      "\n",
      "Oración: \n",
      "({'permitas': False, 'tiene': False, 'gozo': False, 'nunca': False, 'pueden': False, 'puedo': False, 'amor': False, 'el': False, 'cosas': False, 'formas': True, 'difícil': False, 'cómo': False, 'fuerza': False, 'en': False, 'es': False, 'todo': False, 'mi': False, 'minutos': False, 'pierdas': False, 'creer': False, 'podría': False, 'puerta': False, 'arriesgarse': True, 'primer': False, 'sin': True, 'por': False, 'entiendo': False, 'la': False, 'esperar': False, 'le': False, 'paso': False, 'aquí': True, 'eso': False, 'olvidaste': False, 'demasiado': True, 'sucedió': False, 'equivocarme': False, 'no': True, 'viniste': False, 'pronóstico': False, 'salir': True, 'persona': False, 'aprender': False, 'lo': False, 'manera': False, 'que': False, 'esperanza': False, 'sólo': False, 'interior': False, 'muy': False, 'un': False, 'para': False, 'vida': False, 'con': False, 'puede': False, 'había': False, 'paz': False, 'los': False, 'sembrado': False, 'ya': True, 'entrar': False, 'recoger': False, 'alegría': False, 'alcanzar': False, 'porque': False, 'a': False, 'cambiar': False, 'cerrar': False, 'positiva': False, 'espero': False, 'pero': False, 'fallar': False, 'más': False, 'ser': False, 'quedan': True, 'hacer': False, 'será': False, 'tú': False, 'aceptarte': False, 'otra': False, 'de': True, 'frutos': False}, 'neg')\n",
      "_____________________\n",
      "\n",
      "Oración: \n",
      "({'permitas': False, 'tiene': False, 'gozo': False, 'nunca': False, 'pueden': False, 'puedo': False, 'amor': False, 'el': False, 'cosas': False, 'formas': False, 'difícil': False, 'cómo': False, 'fuerza': False, 'en': False, 'es': False, 'todo': False, 'mi': True, 'minutos': False, 'pierdas': False, 'creer': False, 'podría': False, 'puerta': False, 'arriesgarse': False, 'primer': False, 'sin': False, 'por': False, 'entiendo': False, 'la': False, 'esperar': False, 'le': False, 'paso': False, 'aquí': False, 'eso': False, 'olvidaste': False, 'demasiado': False, 'sucedió': False, 'equivocarme': True, 'no': True, 'viniste': False, 'pronóstico': True, 'salir': False, 'persona': False, 'aprender': False, 'lo': False, 'manera': False, 'que': False, 'esperanza': False, 'sólo': False, 'interior': False, 'muy': False, 'un': False, 'para': False, 'vida': False, 'con': True, 'puede': False, 'había': False, 'paz': False, 'los': False, 'sembrado': False, 'ya': False, 'entrar': False, 'recoger': False, 'alegría': False, 'alcanzar': False, 'porque': False, 'a': False, 'cambiar': False, 'cerrar': False, 'positiva': False, 'espero': True, 'pero': False, 'fallar': False, 'más': False, 'ser': False, 'quedan': False, 'hacer': False, 'será': False, 'tú': False, 'aceptarte': False, 'otra': False, 'de': False, 'frutos': False}, 'neg')\n",
      "_____________________\n",
      "\n",
      "Oración: \n",
      "({'permitas': False, 'tiene': False, 'gozo': False, 'nunca': False, 'pueden': False, 'puedo': True, 'amor': False, 'el': False, 'cosas': False, 'formas': False, 'difícil': False, 'cómo': False, 'fuerza': False, 'en': False, 'es': False, 'todo': False, 'mi': False, 'minutos': False, 'pierdas': False, 'creer': True, 'podría': False, 'puerta': False, 'arriesgarse': False, 'primer': False, 'sin': False, 'por': False, 'entiendo': False, 'la': False, 'esperar': False, 'le': False, 'paso': False, 'aquí': False, 'eso': False, 'olvidaste': False, 'demasiado': False, 'sucedió': True, 'equivocarme': False, 'no': True, 'viniste': False, 'pronóstico': False, 'salir': False, 'persona': False, 'aprender': False, 'lo': True, 'manera': True, 'que': True, 'esperanza': False, 'sólo': False, 'interior': False, 'muy': False, 'un': False, 'para': False, 'vida': False, 'con': False, 'puede': False, 'había': True, 'paz': False, 'los': False, 'sembrado': False, 'ya': False, 'entrar': False, 'recoger': False, 'alegría': False, 'alcanzar': False, 'porque': False, 'a': False, 'cambiar': False, 'cerrar': False, 'positiva': False, 'espero': False, 'pero': False, 'fallar': True, 'más': False, 'ser': False, 'quedan': False, 'hacer': False, 'será': False, 'tú': False, 'aceptarte': False, 'otra': False, 'de': True, 'frutos': False}, 'neg')\n",
      "_____________________\n",
      "\n"
     ]
    }
   ],
   "source": [
    "for i in array_palabras:\n",
    "    print('Oración: ')\n",
    "    print(i)\n",
    "    print('_____________________\\n')"
   ]
  },
  {
   "cell_type": "code",
   "execution_count": 13,
   "id": "3089fc87",
   "metadata": {},
   "outputs": [],
   "source": [
    "NaiveBClassifier = nbc.train(array_palabras)"
   ]
  },
  {
   "cell_type": "code",
   "execution_count": 14,
   "id": "01de9545",
   "metadata": {},
   "outputs": [
    {
     "data": {
      "text/plain": [
       "['pos', 'neg']"
      ]
     },
     "execution_count": 14,
     "metadata": {},
     "output_type": "execute_result"
    }
   ],
   "source": [
    "NaiveBClassifier.labels()"
   ]
  },
  {
   "cell_type": "code",
   "execution_count": 15,
   "id": "b6d0bb17",
   "metadata": {},
   "outputs": [],
   "source": [
    "array_pos = {i:(i in word_tokenize(oracion_prueba_pos.lower())) for i in vocabulario}"
   ]
  },
  {
   "cell_type": "code",
   "execution_count": 16,
   "id": "48a174d0",
   "metadata": {},
   "outputs": [],
   "source": [
    "array_neg = {i:(i in word_tokenize(oracion_prueba_neg.lower())) for i in vocabulario}"
   ]
  },
  {
   "cell_type": "code",
   "execution_count": 17,
   "id": "6e92c12b",
   "metadata": {},
   "outputs": [
    {
     "data": {
      "text/plain": [
       "'pos'"
      ]
     },
     "execution_count": 17,
     "metadata": {},
     "output_type": "execute_result"
    }
   ],
   "source": [
    "NaiveBClassifier.classify(array_pos)"
   ]
  },
  {
   "cell_type": "code",
   "execution_count": 18,
   "id": "cfb8e301",
   "metadata": {},
   "outputs": [
    {
     "data": {
      "text/plain": [
       "'neg'"
      ]
     },
     "execution_count": 18,
     "metadata": {},
     "output_type": "execute_result"
    }
   ],
   "source": [
    "NaiveBClassifier.classify(array_neg)"
   ]
  },
  {
   "cell_type": "markdown",
   "id": "885630d6",
   "metadata": {},
   "source": [
    "#### Guardando el modelo entranado "
   ]
  },
  {
   "cell_type": "code",
   "execution_count": 19,
   "id": "3c554102",
   "metadata": {},
   "outputs": [],
   "source": [
    "nombreFile = './NaiveBClassifier.joblib.pkl'"
   ]
  },
  {
   "cell_type": "code",
   "execution_count": 20,
   "id": "6bfcb28d",
   "metadata": {},
   "outputs": [],
   "source": [
    "rtn = joblib.dump(NaiveBClassifier, nombreFile, compress=9)"
   ]
  },
  {
   "cell_type": "code",
   "execution_count": null,
   "id": "9dfca6a4",
   "metadata": {},
   "outputs": [],
   "source": []
  }
 ],
 "metadata": {
  "kernelspec": {
   "display_name": "Python 3 (ipykernel)",
   "language": "python",
   "name": "python3"
  },
  "language_info": {
   "codemirror_mode": {
    "name": "ipython",
    "version": 3
   },
   "file_extension": ".py",
   "mimetype": "text/x-python",
   "name": "python",
   "nbconvert_exporter": "python",
   "pygments_lexer": "ipython3",
   "version": "3.9.7"
  }
 },
 "nbformat": 4,
 "nbformat_minor": 5
}
