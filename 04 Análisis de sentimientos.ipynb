{
 "cells": [
  {
   "cell_type": "code",
   "execution_count": 3,
   "id": "16bcda2d",
   "metadata": {},
   "outputs": [
    {
     "name": "stdout",
     "output_type": "stream",
     "text": [
      "Libreria 'vaderSentiment' se cargo correctamente\n"
     ]
    }
   ],
   "source": [
    "try:\n",
    "    from vaderSentiment.vaderSentiment import SentimentIntensityAnalyzer\n",
    "    print(\"Libreria 'vaderSentiment' se cargo correctamente\")\n",
    "except ModuleNotFoundError:\n",
    "    print(\"Libreria 'vaderSentiment' no esta instalada\")\n",
    "    get_ipython().system('pip install vader-multi')"
   ]
  },
  {
   "cell_type": "code",
   "execution_count": 4,
   "id": "8ce076d5",
   "metadata": {},
   "outputs": [],
   "source": [
    "analyzer = SentimentIntensityAnalyzer()"
   ]
  },
  {
   "cell_type": "code",
   "execution_count": 5,
   "id": "735353f9",
   "metadata": {},
   "outputs": [
    {
     "data": {
      "text/plain": [
       "{'neg': 0.0, 'neu': 0.621, 'pos': 0.379, 'compound': 0.6705}"
      ]
     },
     "execution_count": 5,
     "metadata": {},
     "output_type": "execute_result"
    }
   ],
   "source": [
    "analyzer.polarity_scores(\"La vida será todo lo positiva que tu le permitas ser.\")"
   ]
  },
  {
   "cell_type": "code",
   "execution_count": 6,
   "id": "197e8ed0",
   "metadata": {},
   "outputs": [
    {
     "data": {
      "text/plain": [
       "{'neg': 0.264, 'neu': 0.736, 'pos': 0.0, 'compound': -0.5106}"
      ]
     },
     "execution_count": 6,
     "metadata": {},
     "output_type": "execute_result"
    }
   ],
   "source": [
    "analyzer.polarity_scores(\"Ya no quedan formas de salir de aquí sin arriesgarse demasiado.\")"
   ]
  },
  {
   "cell_type": "code",
   "execution_count": null,
   "id": "5b371aac",
   "metadata": {},
   "outputs": [],
   "source": []
  }
 ],
 "metadata": {
  "kernelspec": {
   "display_name": "Python 3 (ipykernel)",
   "language": "python",
   "name": "python3"
  },
  "language_info": {
   "codemirror_mode": {
    "name": "ipython",
    "version": 3
   },
   "file_extension": ".py",
   "mimetype": "text/x-python",
   "name": "python",
   "nbconvert_exporter": "python",
   "pygments_lexer": "ipython3",
   "version": "3.9.7"
  }
 },
 "nbformat": 4,
 "nbformat_minor": 5
}
